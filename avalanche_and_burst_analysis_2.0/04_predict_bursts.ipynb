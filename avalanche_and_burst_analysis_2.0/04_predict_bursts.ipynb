{
 "cells": [
  {
   "cell_type": "markdown",
   "metadata": {},
   "source": [
    "This notebook prepares data extracted by the  01_get_training_data notebook from the HDF5 file contaning simulation data for ML, and trains and evaluates several ML models (decision trees, random forest, polynomial SVM and MLP).\n",
    "\n",
    "Author: Mariia Lundvall (lundvm@uw.edu) <br>\n",
    "Date: 01/21/2019"
   ]
  },
  {
   "cell_type": "code",
   "execution_count": 1,
   "metadata": {},
   "outputs": [],
   "source": [
    "import pandas as pd\n",
    "import numpy as np\n",
    "from sklearn.model_selection import train_test_split\n",
    "from sklearn.tree import DecisionTreeClassifier\n",
    "from sklearn.metrics import classification_report\n",
    "from sklearn.svm import SVC\n",
    "from sklearn.metrics import accuracy_score\n",
    "from sklearn.svm import LinearSVC\n",
    "from sklearn import metrics\n",
    "from sklearn.model_selection import cross_val_score\n",
    "from sklearn.ensemble import RandomForestClassifier\n",
    "from sklearn.neural_network import MLPClassifier\n",
    "from pandas import Series\n",
    "from matplotlib import pyplot\n",
    "from tqdm import tqdm_notebook as tqdm"
   ]
  },
  {
   "cell_type": "markdown",
   "metadata": {},
   "source": [
    "<b> NOTE: Update the paths prior to running this notebook.  <b>"
   ]
  },
  {
   "cell_type": "code",
   "execution_count": 2,
   "metadata": {},
   "outputs": [],
   "source": [
    "# path to temporal training data\n",
    "# these files are created by the 01_get_training_data notebook\n",
    "temp_path = '/home/NETID/lundvm/data/train_data/temp_'\n",
    "# path to spacial training data\n",
    "# these files are created by the 01_get_training_data notebook\n",
    "space_path = '/home/NETID/lundvm/data/train_data/space_'"
   ]
  },
  {
   "cell_type": "code",
   "execution_count": 3,
   "metadata": {},
   "outputs": [],
   "source": [
    "def prepare_data(path, window_size, data_type):\n",
    "    \"\"\"\n",
    "    Prepares data for training. Creates training and test sets (80%/20%). \n",
    "\n",
    "    Args:\n",
    "        path(str): path to the csv containing data\n",
    "        window_size(int): window size\n",
    "        data_type(str): data type, must be 'temp' for temporal and 'space' for spacial.\n",
    "\n",
    "    Returns:\n",
    "        X_train, X_test, y_train, y_test: training and test sets for sklearn machine learning models.\n",
    "    \"\"\"\n",
    "\n",
    "    file_name = path + str(window_size) + '.csv'\n",
    "    data = pd.read_csv(file_name, header=None, dtype='int')\n",
    "    if data_type == 'space':\n",
    "        window_size = window_size*2\n",
    "    y = data[window_size]\n",
    "    X = data.drop(window_size, axis=1)\n",
    "    X_train, X_test, y_train, y_test = train_test_split(X, y, test_size=0.2)\n",
    "\n",
    "    return X_train, X_test, y_train, y_test"
   ]
  },
  {
   "cell_type": "code",
   "execution_count": 4,
   "metadata": {},
   "outputs": [],
   "source": [
    "def train_model(model, X_train, X_test, y_train, y_test):\n",
    "    \"\"\"\n",
    "    Trains and tests the given model on the given data. Returns the mean of \n",
    "    cross-validation scores and the test score. \n",
    "\n",
    "    Args:\n",
    "        model(sklearn classifier): model to train and test\n",
    "        X_train, X_test, y_train, y_test: training and test data\n",
    "\n",
    "    Returns:\n",
    "        cv_score(float): mean of the model cross-validation scores (10-fold)\n",
    "        test_score(float): model test score\n",
    "    \"\"\"\n",
    "    cv_score = cross_val_score(model, X_train, y_train, cv=10).mean()\n",
    "    model.fit(X_train, y_train)\n",
    "    y_pred_ = model.predict(X_train)\n",
    "    test_score = model.score(X_test, y_test)\n",
    "\n",
    "    return cv_score, test_score"
   ]
  },
  {
   "cell_type": "code",
   "execution_count": null,
   "metadata": {},
   "outputs": [],
   "source": [
    "def run_ML(path, windows, models, data_type):\n",
    "    \"\"\"\n",
    "    Runs ML. \n",
    "\n",
    "    Args:\n",
    "        path(str): path to the csv containing data\n",
    "        windows(list of ints): window sizes\n",
    "        models(list of sklearn classifiers): list of models to train\n",
    "        data_type(str): data type, must be 'temp' for temporal and 'space' for spacial.\n",
    "\n",
    "    Returns:\n",
    "        none\n",
    "    \"\"\"\n",
    "\n",
    "    for w in tqdm(windows):\n",
    "\n",
    "        results = pd.DataFrame(index=['Desicion Tree', 'Random Forest', 'Poly SVM', 'MLP'], columns=[\n",
    "                               'CV Score', 'Test Score'])\n",
    "        cv_scores = []\n",
    "        test_scores = []\n",
    "        X_train, X_test, y_train, y_test = prepare_data(path, w, data_type)\n",
    "\n",
    "        for m in models:\n",
    "            cv_score, test_score = train_model(m, X_train, X_test, y_train, y_test)\n",
    "            cv_scores.append(cv_score)\n",
    "            test_scores.append(test_score)\n",
    "\n",
    "        results['CV Score'] = cv_scores\n",
    "        results['Test Score'] = test_scores\n",
    "\n",
    "        print(\"Window size: \" + str(w))\n",
    "        print(results)\n",
    "        print('')"
   ]
  },
  {
   "cell_type": "code",
   "execution_count": null,
   "metadata": {},
   "outputs": [
    {
     "name": "stdout",
     "output_type": "stream",
     "text": [
      "Running ML on temporal data\n",
      "\n"
     ]
    },
    {
     "data": {
      "application/vnd.jupyter.widget-view+json": {
       "model_id": "4d488443d9254e69991d2e1e08cec8a3",
       "version_major": 2,
       "version_minor": 0
      },
      "text/plain": [
       "HBox(children=(IntProgress(value=0, max=5), HTML(value='')))"
      ]
     },
     "metadata": {},
     "output_type": "display_data"
    },
    {
     "name": "stdout",
     "output_type": "stream",
     "text": [
      "Window size: 5\n",
      "               CV Score  Test Score\n",
      "Desicion Tree  0.979183    0.978351\n",
      "Random Forest  0.979247    0.978351\n",
      "Poly SVM       0.980343    0.980155\n",
      "MLP            0.980665    0.980155\n",
      "\n",
      "Window size: 10\n",
      "               CV Score  Test Score\n",
      "Desicion Tree  0.989688    0.987629\n",
      "Random Forest  0.990526    0.989691\n",
      "Poly SVM       0.990461    0.989433\n",
      "MLP            0.990397    0.989433\n",
      "\n",
      "Window size: 50\n",
      "               CV Score  Test Score\n",
      "Desicion Tree  0.984790    0.983505\n",
      "Random Forest  0.982922    0.983763\n",
      "Poly SVM       0.989689    0.989433\n",
      "MLP            0.988400    0.985309\n",
      "\n",
      "Window size: 100\n",
      "               CV Score  Test Score\n",
      "Desicion Tree  0.988399    0.986340\n",
      "Random Forest  0.974221    0.969588\n",
      "Poly SVM       0.989238    0.988144\n",
      "MLP            0.989109    0.987887\n",
      "\n"
     ]
    }
   ],
   "source": [
    "print('Running ML on temporal data\\n')\n",
    "windows=[5, 10, 50, 100, 500]\n",
    "models=[DecisionTreeClassifier(), RandomForestClassifier(max_depth=2, random_state=0, n_estimators=10), \n",
    "        SVC(degree=2, gamma='scale'), MLPClassifier(hidden_layer_sizes=(100), alpha=0.0001, random_state=0)]\n",
    "run_ML(temp_path, windows, models, 'temp') "
   ]
  },
  {
   "cell_type": "code",
   "execution_count": null,
   "metadata": {},
   "outputs": [],
   "source": [
    "print('Running ML on spacial data\\n')\n",
    "windows=[5, 10, 50, 100, 500]\n",
    "models=[DecisionTreeClassifier(), RandomForestClassifier(max_depth=2, random_state=0, n_estimators=10), \n",
    "        SVC(degree=2, gamma='scale'), MLPClassifier(hidden_layer_sizes=(100), alpha=0.0001, random_state=0)]\n",
    "run_ML(space_path, windows, models, 'space') "
   ]
  }
 ],
 "metadata": {
  "kernelspec": {
   "display_name": "Python 3",
   "language": "python",
   "name": "python3"
  },
  "language_info": {
   "codemirror_mode": {
    "name": "ipython",
    "version": 3
   },
   "file_extension": ".py",
   "mimetype": "text/x-python",
   "name": "python",
   "nbconvert_exporter": "python",
   "pygments_lexer": "ipython3",
   "version": "3.7.1"
  }
 },
 "nbformat": 4,
 "nbformat_minor": 2
}
