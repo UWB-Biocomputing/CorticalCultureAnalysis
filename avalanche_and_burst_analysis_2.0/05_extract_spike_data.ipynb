{
 "cells": [
  {
   "cell_type": "code",
   "execution_count": 1,
   "metadata": {},
   "outputs": [],
   "source": [
    "import numpy as np\n",
    "import pandas as pd\n",
    "import warnings\n",
    "with warnings.catch_warnings():\n",
    "    warnings.filterwarnings(\"ignore\",category=FutureWarning)\n",
    "    import h5py\n",
    "from tqdm import tqdm_notebook as tqdm\n",
    "import gc\n",
    "import numpy.ma as ma"
   ]
  },
  {
   "cell_type": "code",
   "execution_count": 2,
   "metadata": {},
   "outputs": [],
   "source": [
    "def create_spike_matrix(f):\n",
    "    \"\"\"\n",
    "    Takes in an HDF5 file produced by the BrainGrid simuation, extracts information about time \n",
    "    and location of spikes and converts it into a dataframe with the following columns: time_step \n",
    "    (time step when the spike happened), xloc, yloc (coordinates of the spike).\n",
    "    \n",
    "    Args: \n",
    "        f(HDF5): loaded HDF5 file to read data from.\n",
    "    \n",
    "    Returns:\n",
    "        spikes_loc(pandas dataframe): dataframe that contains spiking data. The dataframe has the \n",
    "            following columns: time_step (time step when the spike happened), xloc, yloc \n",
    "            (coordinates of the spike).\n",
    "    \"\"\"\n",
    "    \n",
    "    # get the spikes time steps and coordinates data from the hdf5 file and convert the data \n",
    "    # into numpy arrays\n",
    "    spikes = np.array(f['/spikesProbedNeurons'], dtype='uint32')\n",
    "    xloc = np.array(f['/xloc'], dtype='uint8')\n",
    "    yloc = np.array(f['/yloc'], dtype='uint8')\n",
    "    idx = np.array(f['/starterNeurons'], dtype='uint16')\n",
    "    ids = np.array(f['/probedNeurons'], dtype='uint16')\n",
    "    starter = np.zeros((10000,))\n",
    "    starter[idx] = 1\n",
    "    # m is the max number of spikes per neuron, n is the number of neurons in the simulation\n",
    "    m, n = spikes.shape\n",
    "    # transform the spikes matrix:\n",
    "    # 1. Traspose so that each row is a sequence of spikes of one neuron (instead of a column)\n",
    "    # 2. Flattem the matrix \n",
    "    # 3. Reshape into a 2d array from (m*n, ) to (m*n, 1). This is needed for further processing. \n",
    "    spikes = np.transpose(spikes).flatten().reshape(m*n, 1)\n",
    "    # create a mask to remove non-spikes (where time step=0)\n",
    "    mask = ma.masked_equal(spikes, 0).reshape(m*n, )\n",
    "    # Transform the coordinate vectors:\n",
    "    # 1. Make the vectors match the time step sequence. Repeat the values so that first m values \n",
    "    # in the x and y vectors are the coordinates of the first neuron\n",
    "    # 2. Remove the coordinates corresponding to non-spikes\n",
    "    # 3. Concatenate x and y, the result is an array xy of shape (m*n, 2)\n",
    "    xloc = np.compress(mask, np.repeat(xloc, m).reshape(m*n, 1), axis=0)\n",
    "    yloc = np.compress(mask, np.repeat(yloc, m).reshape(m*n, 1), axis=0)\n",
    "    xy = np.concatenate((xloc, yloc), axis=1)\n",
    "    # delete xloc and yloc to free memory\n",
    "    del xloc\n",
    "    del yloc\n",
    "    gc.collect()\n",
    "    starter = np.compress(mask, np.repeat(starter, m).reshape(m*n, 1), axis=0)\n",
    "    ids = np.compress(mask, np.repeat(ids, m).reshape(m*n, 1), axis=0)\n",
    "    t = np.concatenate((ids, starter), axis=1)\n",
    "    xyis = np.concatenate((xy, t), axis=1)\n",
    "    del xy\n",
    "    del t\n",
    "    del starter \n",
    "    del ids\n",
    "    gc.collect()\n",
    "    # Remove non-spikes from the time step array, concatenate it to xy, \n",
    "    # and convert the result into a dataframe\n",
    "    spikes_loc = pd.DataFrame(np.concatenate((np.compress(mask, spikes, axis=0), xyis), axis=1))\n",
    "    # delete spikes to free the memory\n",
    "    del spikes\n",
    "    gc.collect()\n",
    "    spikes_loc.rename(columns={0:'time_step', 1:'xloc', 2:'yloc', 3:'id', 4:'starter'}, inplace=True)\n",
    "    spikes_loc.sort_values(by='time_step', inplace=True)\n",
    "    spikes_loc.reset_index(drop=True, inplace=True)\n",
    "    spikes_loc['time_step'] = spikes_loc['time_step'].astype('int32')\n",
    "    spikes_loc['id'] = spikes_loc['id'].astype('int16')\n",
    "    spikes_loc['xloc'] = spikes_loc['xloc'].astype('uint8')\n",
    "    spikes_loc['yloc'] = spikes_loc['yloc'].astype('uint8')\n",
    "    spikes_loc['starter'] = spikes_loc['starter'].astype('uint8')\n",
    "    \n",
    "    return spikes_loc"
   ]
  },
  {
   "cell_type": "code",
   "execution_count": 3,
   "metadata": {},
   "outputs": [
    {
     "name": "stdout",
     "output_type": "stream",
     "text": [
      "['Tsim', 'burstinessHist', 'neuronThresh', 'neuronTypes', 'probedNeurons', 'radiiHistory', 'ratesHistory', 'simulationEndTime', 'spikesHistory', 'spikesProbedNeurons', 'starterNeurons', 'xloc', 'yloc'] \n",
      "\n",
      "[<HDF5 dataset \"Tsim\": shape (1,), type \"<f4\">, <HDF5 dataset \"burstinessHist\": shape (60000,), type \"<i4\">, <HDF5 dataset \"neuronThresh\": shape (10000,), type \"<f4\">, <HDF5 dataset \"neuronTypes\": shape (10000,), type \"<i4\">, <HDF5 dataset \"probedNeurons\": shape (10000,), type \"<i4\">, <HDF5 dataset \"radiiHistory\": shape (601, 10000), type \"<f4\">, <HDF5 dataset \"ratesHistory\": shape (601, 10000), type \"<f4\">, <HDF5 dataset \"simulationEndTime\": shape (1,), type \"<f4\">, <HDF5 dataset \"spikesHistory\": shape (6000000,), type \"<i4\">, <HDF5 dataset \"spikesProbedNeurons\": shape (375898, 10000), type \"<u8\">, <HDF5 dataset \"starterNeurons\": shape (1000,), type \"<i4\">, <HDF5 dataset \"xloc\": shape (10000,), type \"<i4\">, <HDF5 dataset \"yloc\": shape (10000,), type \"<i4\">]\n"
     ]
    }
   ],
   "source": [
    "#load an hdf5 file with the simulation data\n",
    "f = h5py.File('/home/NETID/lundvm/data/tR_1.0--fE_0.90.h5', 'r')\n",
    "print(list(f.keys()), '\\n')\n",
    "print(list(f.values()))"
   ]
  },
  {
   "cell_type": "code",
   "execution_count": 4,
   "metadata": {},
   "outputs": [
    {
     "name": "stdout",
     "output_type": "stream",
     "text": [
      "CPU times: user 7min 22s, sys: 2min 53s, total: 10min 16s\n",
      "Wall time: 9min 54s\n"
     ]
    }
   ],
   "source": [
    "%%time\n",
    "# create the spiking data matrix\n",
    "spikes_loc = create_spike_matrix(f)"
   ]
  },
  {
   "cell_type": "code",
   "execution_count": 5,
   "metadata": {},
   "outputs": [
    {
     "data": {
      "text/plain": [
       "(570189562, 5)"
      ]
     },
     "execution_count": 5,
     "metadata": {},
     "output_type": "execute_result"
    }
   ],
   "source": [
    "spikes_loc.shape"
   ]
  },
  {
   "cell_type": "code",
   "execution_count": null,
   "metadata": {},
   "outputs": [],
   "source": [
    "#spikes_loc = spikes_loc[spikes_loc['starter'] == 0]"
   ]
  },
  {
   "cell_type": "code",
   "execution_count": null,
   "metadata": {},
   "outputs": [],
   "source": [
    "xloc = np.array(f['/xloc'], dtype='uint8').reshape(10000,1)\n",
    "yloc = np.array(f['/yloc'], dtype='uint8').reshape(10000,1)\n",
    "xy = np.concatenate((xloc, yloc), axis=1)"
   ]
  },
  {
   "cell_type": "code",
   "execution_count": null,
   "metadata": {},
   "outputs": [],
   "source": [
    "neurons = pd.DataFrame(xy)\n",
    "neurons = neurons.astype(int)"
   ]
  },
  {
   "cell_type": "code",
   "execution_count": null,
   "metadata": {},
   "outputs": [],
   "source": [
    "neurons.head()"
   ]
  },
  {
   "cell_type": "code",
   "execution_count": null,
   "metadata": {},
   "outputs": [],
   "source": [
    "np.savetxt('/home/NETID/lundvm/data/neurons.csv', neurons, fmt='%i', delimiter=',')"
   ]
  },
  {
   "cell_type": "code",
   "execution_count": null,
   "metadata": {},
   "outputs": [],
   "source": [
    "spikes_loc.head()"
   ]
  },
  {
   "cell_type": "code",
   "execution_count": 6,
   "metadata": {},
   "outputs": [],
   "source": [
    "spikes_loc.drop(columns=['xloc', 'yloc', 'starter'], inplace=True)"
   ]
  },
  {
   "cell_type": "code",
   "execution_count": 7,
   "metadata": {},
   "outputs": [
    {
     "data": {
      "text/html": [
       "<div>\n",
       "<style scoped>\n",
       "    .dataframe tbody tr th:only-of-type {\n",
       "        vertical-align: middle;\n",
       "    }\n",
       "\n",
       "    .dataframe tbody tr th {\n",
       "        vertical-align: top;\n",
       "    }\n",
       "\n",
       "    .dataframe thead th {\n",
       "        text-align: right;\n",
       "    }\n",
       "</style>\n",
       "<table border=\"1\" class=\"dataframe\">\n",
       "  <thead>\n",
       "    <tr style=\"text-align: right;\">\n",
       "      <th></th>\n",
       "      <th>time_step</th>\n",
       "      <th>id</th>\n",
       "    </tr>\n",
       "  </thead>\n",
       "  <tbody>\n",
       "    <tr>\n",
       "      <th>0</th>\n",
       "      <td>538</td>\n",
       "      <td>8441</td>\n",
       "    </tr>\n",
       "    <tr>\n",
       "      <th>1</th>\n",
       "      <td>632</td>\n",
       "      <td>8131</td>\n",
       "    </tr>\n",
       "    <tr>\n",
       "      <th>2</th>\n",
       "      <td>639</td>\n",
       "      <td>6607</td>\n",
       "    </tr>\n",
       "    <tr>\n",
       "      <th>3</th>\n",
       "      <td>670</td>\n",
       "      <td>8307</td>\n",
       "    </tr>\n",
       "    <tr>\n",
       "      <th>4</th>\n",
       "      <td>682</td>\n",
       "      <td>9731</td>\n",
       "    </tr>\n",
       "  </tbody>\n",
       "</table>\n",
       "</div>"
      ],
      "text/plain": [
       "   time_step    id\n",
       "0        538  8441\n",
       "1        632  8131\n",
       "2        639  6607\n",
       "3        670  8307\n",
       "4        682  9731"
      ]
     },
     "execution_count": 7,
     "metadata": {},
     "output_type": "execute_result"
    }
   ],
   "source": [
    "spikes_loc.head()"
   ]
  },
  {
   "cell_type": "code",
   "execution_count": 8,
   "metadata": {},
   "outputs": [],
   "source": [
    "spikes_loc.to_csv('/home/NETID/lundvm/data/allSpikeTime_all.csv', header=False, index=False)"
   ]
  },
  {
   "cell_type": "code",
   "execution_count": null,
   "metadata": {},
   "outputs": [],
   "source": [
    "y = np.bincount(spikes_loc['time_step'].values)\n",
    "ii = np.nonzero(y)[0]\n",
    "spikes_time_count = np.vstack((ii,y[ii])).T"
   ]
  },
  {
   "cell_type": "code",
   "execution_count": null,
   "metadata": {},
   "outputs": [],
   "source": [
    "t = pd.DataFrame(spikes_time_count)"
   ]
  },
  {
   "cell_type": "code",
   "execution_count": null,
   "metadata": {},
   "outputs": [],
   "source": [
    "t"
   ]
  },
  {
   "cell_type": "code",
   "execution_count": null,
   "metadata": {},
   "outputs": [],
   "source": [
    "t.to_csv('/home/NETID/lundvm/data/allSpikeTimeCount.csv', header=False, index=False)"
   ]
  },
  {
   "cell_type": "code",
   "execution_count": null,
   "metadata": {},
   "outputs": [],
   "source": [
    "spikes_time_count.shape"
   ]
  },
  {
   "cell_type": "code",
   "execution_count": null,
   "metadata": {},
   "outputs": [],
   "source": [
    "bursts = pd.read_csv()"
   ]
  },
  {
   "cell_type": "code",
   "execution_count": null,
   "metadata": {},
   "outputs": [],
   "source": [
    "import csv\n",
    "import pandas as pd\n",
    "path = '/home/NETID/lundvm/data/'\n",
    "file = 'allSpikeTime.csv'\n",
    "f = open(path+file,'rt')\n",
    "reader = csv.reader(f)"
   ]
  },
  {
   "cell_type": "code",
   "execution_count": null,
   "metadata": {},
   "outputs": [],
   "source": [
    "for row in reader:\n",
    "    print(row)"
   ]
  },
  {
   "cell_type": "code",
   "execution_count": null,
   "metadata": {},
   "outputs": [],
   "source": [
    "min_ibi = min(bursts['IBI'].values)\n",
    "max_ibi = max(bursts['IBI'].values)\n",
    "ibi_mean = np.mean(bursts['IBI'].values)\n",
    "ibi_std = np.std(bursts['IBI'].values)\n",
    "burst_start_mask = np.in1d(spike_count[0], bursts['StartT'].values)\n",
    "num_bursts = bursts['StartT'].values.shape[0]"
   ]
  }
 ],
 "metadata": {
  "kernelspec": {
   "display_name": "Python 3",
   "language": "python",
   "name": "python3"
  },
  "language_info": {
   "codemirror_mode": {
    "name": "ipython",
    "version": 3
   },
   "file_extension": ".py",
   "mimetype": "text/x-python",
   "name": "python",
   "nbconvert_exporter": "python",
   "pygments_lexer": "ipython3",
   "version": "3.7.1"
  }
 },
 "nbformat": 4,
 "nbformat_minor": 2
}
