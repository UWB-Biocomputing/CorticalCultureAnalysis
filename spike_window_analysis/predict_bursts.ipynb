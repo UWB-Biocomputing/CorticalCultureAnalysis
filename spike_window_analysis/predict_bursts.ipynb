{
 "cells": [
  {
   "cell_type": "code",
   "execution_count": 1,
   "metadata": {},
   "outputs": [],
   "source": [
    "import pandas as pd\n",
    "import numpy as np\n",
    "from sklearn.model_selection import train_test_split\n",
    "from sklearn.tree import DecisionTreeClassifier\n",
    "from sklearn.metrics import classification_report\n",
    "from sklearn.svm import SVC\n",
    "from sklearn.metrics import accuracy_score\n",
    "from sklearn.svm import LinearSVC\n",
    "from sklearn import metrics\n",
    "from sklearn.model_selection import cross_val_score\n",
    "from sklearn.ensemble import RandomForestClassifier\n",
    "from sklearn.neural_network import MLPClassifier\n",
    "from pandas import Series\n",
    "from matplotlib import pyplot\n",
    "from tqdm import tqdm_notebook as tqdm"
   ]
  },
  {
   "cell_type": "code",
   "execution_count": 2,
   "metadata": {},
   "outputs": [],
   "source": [
    "def prepare_data(path, window_size, data_type):\n",
    "    \"\"\"\n",
    "    Prepares data for training. Creates training and test sets (80%/20%). \n",
    "\n",
    "    Args:\n",
    "        path(str): path to the csv containing data\n",
    "        window_size(int): window size\n",
    "        data_type(str): data type, must be 'temp' for temporal and 'space' for spacial.\n",
    "\n",
    "    Returns:\n",
    "        X_train, X_test, y_train, y_test: training and test sets for sklearn machine learning models.\n",
    "    \"\"\"\n",
    "\n",
    "    file_name = path + str(window_size) + '.csv'\n",
    "    data = pd.read_csv(file_name, header=None, dtype='int')\n",
    "    if data_type == 'space':\n",
    "        window_size = window_size*2\n",
    "    y = data[window_size]\n",
    "    X = data.drop(window_size, axis=1)\n",
    "    X_train, X_test, y_train, y_test = train_test_split(X, y, test_size=0.2)\n",
    "\n",
    "    return X_train, X_test, y_train, y_test"
   ]
  },
  {
   "cell_type": "code",
   "execution_count": 3,
   "metadata": {},
   "outputs": [],
   "source": [
    "def train_model(model, X_train, X_test, y_train, y_test):\n",
    "    \"\"\"\n",
    "    Trains and tests the given model on the given data. Returns the mean of \n",
    "    cross-validation scores and the test score. \n",
    "\n",
    "    Args:\n",
    "        model(sklearn classifier): model to train and test\n",
    "        X_train, X_test, y_train, y_test: training and test data\n",
    "\n",
    "    Returns:\n",
    "        cv_score(float): mean of the model cross-validation scores (10-fold)\n",
    "        test_score(float): model test score\n",
    "    \"\"\"\n",
    "    cv_scores = cross_val_score(model, X_train, y_train, cv=10).mean()\n",
    "    model.fit(X_train, y_train)\n",
    "    y_pred_ = model.predict(X_train)\n",
    "    test_score = model.score(X_test, y_test)\n",
    "\n",
    "    return cv_score, test_score"
   ]
  },
  {
   "cell_type": "code",
   "execution_count": 4,
   "metadata": {},
   "outputs": [],
   "source": [
    "def run_ML(path, windows, models, data_type):\n",
    "    \"\"\"\n",
    "    Runs ML. \n",
    "\n",
    "    Args:\n",
    "        path(str):\n",
    "        windows(list of ints):\n",
    "        models(list of sklearn classifiers):\n",
    "        data_type(str): data type, must be 'temp' for temporal and 'space' for spacial.\n",
    "\n",
    "    Returns:\n",
    "        none\n",
    "    \"\"\"\n",
    "\n",
    "    for w in tqdm(windows):\n",
    "\n",
    "        results = pd.DataFrame(index=['Desicion Tree', 'Random Forest', 'Poly SVM', 'MLP'], columns=[\n",
    "                               'CV Score', 'Test Score'])\n",
    "        cv_scores = []\n",
    "        test_scores = []\n",
    "        X_train, X_test, y_train, y_test = prepare_data(path, w, data_type)\n",
    "\n",
    "        for m in models:\n",
    "            cv_score, test_score = train_model(\n",
    "                m, X_train, X_test, y_train, y_test)\n",
    "            cv_scores.append(cv_score)\n",
    "            test_scores.append(test_score)\n",
    "\n",
    "        results['CV Score'] = cv_scores\n",
    "        results['Test Score'] = test_scores\n",
    "\n",
    "        print(\"Window size: \" + str(w))\n",
    "        print(results)\n",
    "        print('')"
   ]
  },
  {
   "cell_type": "code",
   "execution_count": 5,
   "metadata": {},
   "outputs": [
    {
     "name": "stdout",
     "output_type": "stream",
     "text": [
      "Running ML on temporal data\n",
      "\n"
     ]
    },
    {
     "data": {
      "application/vnd.jupyter.widget-view+json": {
       "model_id": "5ba57f555b1b4314955f9f3477af493e",
       "version_major": 2,
       "version_minor": 0
      },
      "text/plain": [
       "HBox(children=(IntProgress(value=0, max=5), HTML(value='')))"
      ]
     },
     "metadata": {},
     "output_type": "display_data"
    },
    {
     "name": "stdout",
     "output_type": "stream",
     "text": [
      "Window size: 5\n",
      "               CV Score  Test Score\n",
      "Desicion Tree  0.976571    0.977858\n",
      "Random Forest  0.975863    0.976056\n",
      "Poly SVM       0.977987    0.977858\n",
      "MLP            0.978309    0.977343\n",
      "\n",
      "Window size: 10\n",
      "               CV Score  Test Score\n",
      "Desicion Tree  0.987641    0.989186\n",
      "Random Forest  0.989572    0.991504\n",
      "Poly SVM       0.989766    0.990731\n",
      "MLP            0.989315    0.990216\n",
      "\n",
      "Window size: 50\n",
      "               CV Score  Test Score\n",
      "Desicion Tree  0.984874    0.984809\n",
      "Random Forest  0.976699    0.978373\n",
      "Poly SVM       0.989380    0.987642\n",
      "MLP            0.989701    0.987899\n",
      "\n",
      "Window size: 100\n",
      "               CV Score  Test Score\n",
      "Desicion Tree  0.987191    0.988157\n",
      "Random Forest  0.965049    0.964470\n",
      "Poly SVM       0.989187    0.989701\n",
      "MLP            0.985582    0.988671\n",
      "\n",
      "Window size: 500\n",
      "               CV Score  Test Score\n",
      "Desicion Tree  0.988929    0.987642\n",
      "Random Forest  0.914973    0.913749\n",
      "Poly SVM       0.986483    0.988414\n",
      "MLP            0.966464    0.901905\n",
      "\n",
      "\n"
     ]
    }
   ],
   "source": [
    "print('Running ML on temporal data\\n')\n",
    "run_ML(path='train_data/temp_', windows=[5, 10, 50, 100, 500],\n",
    "       models=[DecisionTreeClassifier(), RandomForestClassifier(max_depth=2, random_state=0, n_estimators=10),\n",
    "               SVC(degree=2, gamma='scale'), MLPClassifier(hidden_layer_sizes=(100), alpha=0.0001, random_state=0)],\n",
    "       data_type='temp')"
   ]
  },
  {
   "cell_type": "code",
   "execution_count": 6,
   "metadata": {},
   "outputs": [
    {
     "name": "stdout",
     "output_type": "stream",
     "text": [
      "Running ML on spacial data\n",
      "\n"
     ]
    },
    {
     "data": {
      "application/vnd.jupyter.widget-view+json": {
       "model_id": "080b8c25cffe41dbb2dcaccd176ff1c2",
       "version_major": 2,
       "version_minor": 0
      },
      "text/plain": [
       "HBox(children=(IntProgress(value=0, max=5), HTML(value='')))"
      ]
     },
     "metadata": {},
     "output_type": "display_data"
    },
    {
     "name": "stdout",
     "output_type": "stream",
     "text": [
      "Window size: 5\n",
      "               CV Score  Test Score\n",
      "Desicion Tree  0.947540    0.950322\n",
      "Random Forest  0.881760    0.864093\n",
      "Poly SVM       0.957646    0.960618\n",
      "MLP            0.960415    0.961133\n",
      "\n",
      "Window size: 10\n",
      "               CV Score  Test Score\n",
      "Desicion Tree  0.952368    0.960618\n",
      "Random Forest  0.919092    0.914286\n",
      "Poly SVM       0.912268    0.907336\n",
      "MLP            0.966980    0.964479\n",
      "\n",
      "Window size: 50\n",
      "               CV Score  Test Score\n",
      "Desicion Tree  0.952175    0.944402\n",
      "Random Forest  0.937630    0.932561\n",
      "Poly SVM       0.681385    0.684685\n",
      "MLP            0.964472    0.969112\n",
      "\n",
      "Window size: 100\n",
      "               CV Score  Test Score\n",
      "Desicion Tree  0.946061    0.941055\n",
      "Random Forest  0.934797    0.926898\n",
      "Poly SVM       0.603052    0.602574\n",
      "MLP            0.962151    0.966023\n",
      "\n",
      "Window size: 500\n",
      "               CV Score  Test Score\n",
      "Desicion Tree  0.937757    0.939768\n",
      "Random Forest  0.924882    0.927671\n",
      "Poly SVM       0.508432    0.508623\n",
      "MLP            0.959708    0.955985\n",
      "\n",
      "\n"
     ]
    }
   ],
   "source": [
    "print('Running ML on spacial data\\n')\n",
    "run_ML(path='train_data/space_', windows=[5, 10, 50, 100, 500],\n",
    "       models=[DecisionTreeClassifier(), RandomForestClassifier(max_depth=2, random_state=0, n_estimators=10),\n",
    "               SVC(degree=2, gamma='scale'), MLPClassifier(hidden_layer_sizes=(100), alpha=0.0001, random_state=0)],\n",
    "       data_type='space')"
   ]
  }
 ],
 "metadata": {
  "kernelspec": {
   "display_name": "Python 3",
   "language": "python",
   "name": "python3"
  },
  "language_info": {
   "codemirror_mode": {
    "name": "ipython",
    "version": 3
   },
   "file_extension": ".py",
   "mimetype": "text/x-python",
   "name": "python",
   "nbconvert_exporter": "python",
   "pygments_lexer": "ipython3",
   "version": "3.6.6"
  }
 },
 "nbformat": 4,
 "nbformat_minor": 2
}
