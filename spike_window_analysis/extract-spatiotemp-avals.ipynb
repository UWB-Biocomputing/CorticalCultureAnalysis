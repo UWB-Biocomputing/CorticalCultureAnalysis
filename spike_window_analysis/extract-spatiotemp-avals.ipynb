{
 "cells": [
  {
   "cell_type": "code",
   "execution_count": 1,
   "metadata": {},
   "outputs": [],
   "source": [
    "import pandas as pd\n",
    "import numpy as np\n",
    "from numpy import genfromtxt\n",
    "from tqdm import tqdm_notebook as tqdm"
   ]
  },
  {
   "cell_type": "code",
   "execution_count": 2,
   "metadata": {},
   "outputs": [
    {
     "data": {
      "text/html": [
       "<div>\n",
       "<style scoped>\n",
       "    .dataframe tbody tr th:only-of-type {\n",
       "        vertical-align: middle;\n",
       "    }\n",
       "\n",
       "    .dataframe tbody tr th {\n",
       "        vertical-align: top;\n",
       "    }\n",
       "\n",
       "    .dataframe thead th {\n",
       "        text-align: right;\n",
       "    }\n",
       "</style>\n",
       "<table border=\"1\" class=\"dataframe\">\n",
       "  <thead>\n",
       "    <tr style=\"text-align: right;\">\n",
       "      <th></th>\n",
       "      <th>time_step</th>\n",
       "      <th>xloc</th>\n",
       "      <th>yloc</th>\n",
       "      <th>id</th>\n",
       "    </tr>\n",
       "  </thead>\n",
       "  <tbody>\n",
       "    <tr>\n",
       "      <th>0</th>\n",
       "      <td>96709709</td>\n",
       "      <td>41</td>\n",
       "      <td>92</td>\n",
       "      <td>9241</td>\n",
       "    </tr>\n",
       "    <tr>\n",
       "      <th>1</th>\n",
       "      <td>96709728</td>\n",
       "      <td>41</td>\n",
       "      <td>93</td>\n",
       "      <td>9341</td>\n",
       "    </tr>\n",
       "    <tr>\n",
       "      <th>2</th>\n",
       "      <td>96709741</td>\n",
       "      <td>40</td>\n",
       "      <td>92</td>\n",
       "      <td>9240</td>\n",
       "    </tr>\n",
       "    <tr>\n",
       "      <th>3</th>\n",
       "      <td>96709743</td>\n",
       "      <td>42</td>\n",
       "      <td>91</td>\n",
       "      <td>9142</td>\n",
       "    </tr>\n",
       "    <tr>\n",
       "      <th>4</th>\n",
       "      <td>96709743</td>\n",
       "      <td>40</td>\n",
       "      <td>91</td>\n",
       "      <td>9140</td>\n",
       "    </tr>\n",
       "  </tbody>\n",
       "</table>\n",
       "</div>"
      ],
      "text/plain": [
       "   time_step  xloc  yloc    id\n",
       "0   96709709    41    92  9241\n",
       "1   96709728    41    93  9341\n",
       "2   96709741    40    92  9240\n",
       "3   96709743    42    91  9142\n",
       "4   96709743    40    91  9140"
      ]
     },
     "execution_count": 2,
     "metadata": {},
     "output_type": "execute_result"
    }
   ],
   "source": [
    "spikes = pd.read_csv('/home/NETID/lundvm/data/allSpikeTime.csv', )\n",
    "spikes.head()"
   ]
  },
  {
   "cell_type": "code",
   "execution_count": 3,
   "metadata": {},
   "outputs": [
    {
     "data": {
      "text/plain": [
       "(430128718, 4)"
      ]
     },
     "execution_count": 3,
     "metadata": {},
     "output_type": "execute_result"
    }
   ],
   "source": [
    "spikes.shape"
   ]
  },
  {
   "cell_type": "code",
   "execution_count": null,
   "metadata": {},
   "outputs": [],
   "source": [
    "neurons = genfromtxt('/home/NETID/lundvm/data/neurons.csv', delimiter=',')"
   ]
  },
  {
   "cell_type": "code",
   "execution_count": null,
   "metadata": {},
   "outputs": [],
   "source": [
    "def calculate_distance():\n",
    "    for i in tqdm(range(10000)):\n",
    "        for j in range(10000):\n",
    "            dist[i][j] = np.sqrt((neurons[i][0] - neurons[j][0])**2 + (neurons[i][1] - neurons[j][1])**2)"
   ]
  },
  {
   "cell_type": "code",
   "execution_count": null,
   "metadata": {},
   "outputs": [],
   "source": [
    "dist = np.zeros((10000, 10000))\n",
    "calculate_distance()"
   ]
  },
  {
   "cell_type": "code",
   "execution_count": null,
   "metadata": {},
   "outputs": [],
   "source": [
    "avals = []\n",
    "data = spikes.values.transpose()"
   ]
  },
  {
   "cell_type": "code",
   "execution_count": null,
   "metadata": {},
   "outputs": [],
   "source": [
    "%%time\n",
    "for spike in range(3):\n",
    "    cur_ts = data[0, spike]\n",
    "    cur_spike = data[3, spike]\n",
    "    mask_ts = np.where((data[0] >= data[0][0] - 50) & (data[0] <= data[0][0] + 50))\n",
    "    mask_dist = np.where(dist[data[3][spike], data[3][mask_ts]] < 8)\n",
    "    related_spikes = data[3, [mask_dist]]\n",
    "    related_ts = data[0, [mask_dist]]\n",
    "    related_spikes = related_spikes[np.where(related_spikes != data[3][spike])]\n",
    "    related_spikes = related_spikes.reshape(1, related_spikes.shape[0])\n",
    "    related_ts = related_ts[np.where(related_ts != cur_ts)]\n",
    "    related_ts = related_ts.reshape(1, related_ts.shape[0])\n",
    "    t = np.concatenate((related_spikes, related_ts), axis=0) "
   ]
  },
  {
   "cell_type": "code",
   "execution_count": null,
   "metadata": {},
   "outputs": [],
   "source": [
    "a = np.array(([1, 3, 4], [10, 11, 23]))\n",
    "l = [[0, 1, 3], [10, 11, 13]]\n",
    "print(np.isin(a[0], l[0]))\n",
    "print(np.isin(a[1], l[1]))"
   ]
  },
  {
   "cell_type": "code",
   "execution_count": null,
   "metadata": {},
   "outputs": [],
   "source": [
    "a.shape"
   ]
  },
  {
   "cell_type": "code",
   "execution_count": null,
   "metadata": {},
   "outputs": [],
   "source": [
    "np.where((np.isin(a, l)[0] == True) & (np.isin(a, l)[1] == True))"
   ]
  },
  {
   "cell_type": "code",
   "execution_count": null,
   "metadata": {},
   "outputs": [],
   "source": [
    "  if len(related_spikes) == 0:\n",
    "        continue\n",
    "    temp_avals = []\n",
    "    for a in avals:\n",
    "        if (np.isin(, l).any())"
   ]
  },
  {
   "cell_type": "code",
   "execution_count": null,
   "metadata": {},
   "outputs": [],
   "source": []
  }
 ],
 "metadata": {
  "kernelspec": {
   "display_name": "Python 3",
   "language": "python",
   "name": "python3"
  },
  "language_info": {
   "codemirror_mode": {
    "name": "ipython",
    "version": 3
   },
   "file_extension": ".py",
   "mimetype": "text/x-python",
   "name": "python",
   "nbconvert_exporter": "python",
   "pygments_lexer": "ipython3",
   "version": "3.7.1"
  }
 },
 "nbformat": 4,
 "nbformat_minor": 2
}
